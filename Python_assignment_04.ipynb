{
  "nbformat": 4,
  "nbformat_minor": 0,
  "metadata": {
    "colab": {
      "name": "Python_assignment_04",
      "provenance": [],
      "collapsed_sections": [],
      "authorship_tag": "ABX9TyOJdVu6udjGGulDDLbNlpX7",
      "include_colab_link": true
    },
    "kernelspec": {
      "name": "python3",
      "display_name": "Python 3"
    }
  },
  "cells": [
    {
      "cell_type": "markdown",
      "metadata": {
        "id": "view-in-github",
        "colab_type": "text"
      },
      "source": [
        "<a href=\"https://colab.research.google.com/github/bhuwanthada/Python_assignment_04/blob/master/Python_assignment_04.ipynb\" target=\"_parent\"><img src=\"https://colab.research.google.com/assets/colab-badge.svg\" alt=\"Open In Colab\"/></a>"
      ]
    },
    {
      "cell_type": "markdown",
      "metadata": {
        "id": "ESVpCIPpLQXw",
        "colab_type": "text"
      },
      "source": [
        "1.1 Write a Python Program(with class concepts) to find the area of the triangle using the below formula. \n",
        "area = (s*(s-a)*(s-b)*(s-c)) ** 0.5 \n"
      ]
    },
    {
      "cell_type": "code",
      "metadata": {
        "id": "g9bRCUARc4fP",
        "colab_type": "code",
        "colab": {
          "base_uri": "https://localhost:8080/",
          "height": 102
        },
        "outputId": "5bc2607b-e27e-44a7-fba6-eba05e9c6d7c"
      },
      "source": [
        "class TriangleFeature:\n",
        "\n",
        "  def __init__(self,side_a,side_b,side_c):\n",
        "    self.a = side_a\n",
        "    self.b = side_b\n",
        "    self.c = side_c\n",
        "  \n",
        "  def calculate_area(self):\n",
        "    s = (self.a+self.b+self.c)/2\n",
        "    area = (s*(s-self.a)*(s-self.b)*(s-self.c))**0.5\n",
        "    return area\n",
        "\n",
        "class TriangleInput(TriangleFeature):\n",
        "  def __init__(self):\n",
        "      self.a = int(input(\"Enter triangle side_01: \"))\n",
        "      self.b = int(input(\"Enter triangle side_02: \"))\n",
        "      self.c = int(input(\"Enter triangle side_03: \"))\n",
        "      print(\"Triangle sides: {} {}, {} {}, {} {}\".format(self.a, \"unit\",self.b,\"unit\",self.c,\"unit\"))\n",
        "      self.TriangleFeature = TriangleFeature(self.a,self.b,self.c)\n",
        "  \n",
        "  def get_result(self):\n",
        "      result = self.TriangleFeature.calculate_area()\n",
        "      return result\n",
        "\n",
        "t1 = TriangleInput()\n",
        "res = t1.get_result()\n",
        "print(\"Area of triangle:\",res,\"sq. units\")"
      ],
      "execution_count": 3,
      "outputs": [
        {
          "output_type": "stream",
          "text": [
            "Enter triangle side_01: 12\n",
            "Enter triangle side_02: 10\n",
            "Enter triangle side_03: 16\n",
            "Triangle sides: 12 unit, 10 unit, 16 unit\n",
            "Area of triangle: 59.924953066314536 sq. units\n"
          ],
          "name": "stdout"
        }
      ]
    },
    {
      "cell_type": "markdown",
      "metadata": {
        "id": "wLqZyRJVSDD0",
        "colab_type": "text"
      },
      "source": [
        "1.2 Write a function filter_long_words() that takes a list of words and an integer n and returns the list of words that are longer than n."
      ]
    },
    {
      "cell_type": "code",
      "metadata": {
        "id": "ngLERWQdSE87",
        "colab_type": "code",
        "outputId": "c4ace56a-6082-437e-8731-6cafc0ef6ed8",
        "colab": {
          "base_uri": "https://localhost:8080/",
          "height": 68
        }
      },
      "source": [
        "# solution approach 01\n",
        "def filter_long_words(list_data,num):\n",
        "  new_list = []\n",
        "  for word in list_data:\n",
        "    if len(word) > num:\n",
        "      new_list.append(word)\n",
        "  return new_list\n",
        "\n",
        "list_data = ['apple','banana','cat','dog','elephant','fish','girl','hat']\n",
        "num=4\n",
        "print(\"Input_list:\",list_data)\n",
        "result = filter_long_words(list_data,num)\n",
        "print(\"New_list_approach_01:\",result)\n",
        "\n",
        "# solution approach 02:\n",
        "new_list = list(word for word in list_data if len(word)>num)\n",
        "print(\"New_List_approach_02:\",new_list)"
      ],
      "execution_count": 4,
      "outputs": [
        {
          "output_type": "stream",
          "text": [
            "Input_list: ['apple', 'banana', 'cat', 'dog', 'elephant', 'fish', 'girl', 'hat']\n",
            "New_list_approach_01: ['apple', 'banana', 'elephant']\n",
            "New_List_approach_02: ['apple', 'banana', 'elephant']\n"
          ],
          "name": "stdout"
        }
      ]
    },
    {
      "cell_type": "markdown",
      "metadata": {
        "id": "QluiyncDTTk7",
        "colab_type": "text"
      },
      "source": [
        "2.1 Write a Python program using function concept that maps list of words into a list of integers representing the lengths of the corresponding words. \n",
        "Hint: If a list [ ab,cde,erty] is passed on to the python function output should come as [2,3,4] \n",
        "Here 2,3 and 4 are the lengths of the words in the list. \n"
      ]
    },
    {
      "cell_type": "code",
      "metadata": {
        "id": "682MpfIETU1a",
        "colab_type": "code",
        "outputId": "376b3a81-5b43-434a-f186-f6c13a4f64f0",
        "colab": {
          "base_uri": "https://localhost:8080/",
          "height": 68
        }
      },
      "source": [
        "def convert_list_len(data):\n",
        "  return len(data)\n",
        "\n",
        "list_data = ['apple','banana','cat','dog','elephant','fish','girl']\n",
        "print(\"Original list:\",list_data)\n",
        "con_list = list(map(convert_list_len,list_data))\n",
        "print(\"Converted list info:\",con_list)\n",
        "result = list((a,b) for a,b in zip(list_data,con_list))\n",
        "print(result)"
      ],
      "execution_count": 19,
      "outputs": [
        {
          "output_type": "stream",
          "text": [
            "Original list: ['apple', 'banana', 'cat', 'dog', 'elephant', 'fish', 'girl']\n",
            "Converted list info: [5, 6, 3, 3, 8, 4, 4]\n",
            "[('apple', 5), ('banana', 6), ('cat', 3), ('dog', 3), ('elephant', 8), ('fish', 4), ('girl', 4)]\n"
          ],
          "name": "stdout"
        }
      ]
    },
    {
      "cell_type": "markdown",
      "metadata": {
        "id": "7u21LOXCUQ6J",
        "colab_type": "text"
      },
      "source": [
        "2.2 Write a Python function which takes a character (i.e. a string of length 1) and returns True if it is a vowel, False otherwise. "
      ]
    },
    {
      "cell_type": "code",
      "metadata": {
        "id": "h9cflzMwUSYj",
        "colab_type": "code",
        "outputId": "65fff681-b9a3-48d0-e6f7-a462b30c0c8f",
        "colab": {
          "base_uri": "https://localhost:8080/",
          "height": 51
        }
      },
      "source": [
        "def get_vowel_feedback(data):\n",
        "  if data in ('a','e','i','o','u'):\n",
        "    return True\n",
        "  else:\n",
        "    return False\n",
        "\n",
        "ip_list = ['a','b','c','e','i','d','f']\n",
        "print(\"Input_list: \",ip_list)\n",
        "print(\"Result: \",list(map(get_vowel_feedback,ip_list)))"
      ],
      "execution_count": 0,
      "outputs": [
        {
          "output_type": "stream",
          "text": [
            "Input_list:  ['a', 'b', 'c', 'e', 'i', 'd', 'f']\n",
            "Result:  [True, False, False, True, True, False, False]\n"
          ],
          "name": "stdout"
        }
      ]
    },
    {
      "cell_type": "code",
      "metadata": {
        "id": "nwHEBWyLU_Y4",
        "colab_type": "code",
        "colab": {}
      },
      "source": [
        ""
      ],
      "execution_count": 0,
      "outputs": []
    }
  ]
}